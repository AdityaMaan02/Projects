{
 "cells": [
  {
   "cell_type": "code",
   "execution_count": 1,
   "id": "bb98f109",
   "metadata": {
    "_cell_guid": "b1076dfc-b9ad-4769-8c92-a6c4dae69d19",
    "_uuid": "8f2839f25d086af736a60e9eeb907d3b93b6e0e5",
    "execution": {
     "iopub.execute_input": "2024-06-24T05:17:16.999932Z",
     "iopub.status.busy": "2024-06-24T05:17:16.999520Z",
     "iopub.status.idle": "2024-06-24T05:17:18.161152Z",
     "shell.execute_reply": "2024-06-24T05:17:18.160043Z"
    },
    "papermill": {
     "duration": 1.169134,
     "end_time": "2024-06-24T05:17:18.164040",
     "exception": false,
     "start_time": "2024-06-24T05:17:16.994906",
     "status": "completed"
    },
    "tags": []
   },
   "outputs": [
    {
     "name": "stdout",
     "output_type": "stream",
     "text": [
      "/kaggle/input/fraudulent-e-commerce-transactions/Fraudulent_E-Commerce_Transaction_Data.csv\n",
      "/kaggle/input/fraudulent-e-commerce-transactions/Fraudulent_E-Commerce_Transaction_Data_2.csv\n"
     ]
    }
   ],
   "source": [
    "# This Python 3 environment comes with many helpful analytics libraries installed\n",
    "# It is defined by the kaggle/python Docker image: https://github.com/kaggle/docker-python\n",
    "# For example, here's several helpful packages to load\n",
    "\n",
    "import numpy as np # linear algebra\n",
    "import pandas as pd # data processing, CSV file I/O (e.g. pd.read_csv)\n",
    "\n",
    "# Input data files are available in the read-only \"../input/\" directory\n",
    "# For example, running this (by clicking run or pressing Shift+Enter) will list all files under the input directory\n",
    "\n",
    "import os\n",
    "for dirname, _, filenames in os.walk('/kaggle/input'):\n",
    "    for filename in filenames:\n",
    "        print(os.path.join(dirname, filename))\n",
    "\n",
    "# You can write up to 20GB to the current directory (/kaggle/working/) that gets preserved as output when you create a version using \"Save & Run All\" \n",
    "# You can also write temporary files to /kaggle/temp/, but they won't be saved outside of the current session"
   ]
  },
  {
   "cell_type": "code",
   "execution_count": 2,
   "id": "5d5c7e8a",
   "metadata": {
    "execution": {
     "iopub.execute_input": "2024-06-24T05:17:18.171866Z",
     "iopub.status.busy": "2024-06-24T05:17:18.171321Z",
     "iopub.status.idle": "2024-06-24T05:18:02.805933Z",
     "shell.execute_reply": "2024-06-24T05:18:02.804802Z"
    },
    "papermill": {
     "duration": 44.648459,
     "end_time": "2024-06-24T05:18:02.815552",
     "exception": false,
     "start_time": "2024-06-24T05:17:18.167093",
     "status": "completed"
    },
    "tags": []
   },
   "outputs": [
    {
     "name": "stdout",
     "output_type": "stream",
     "text": [
      "Shape of df1: (1472952, 16)\n",
      "Shape of df2: (23634, 16)\n",
      "Shape of merged DataFrame: (1496586, 16)\n",
      "<class 'pandas.core.frame.DataFrame'>\n",
      "RangeIndex: 1496586 entries, 0 to 1496585\n",
      "Data columns (total 9 columns):\n",
      " #   Column              Non-Null Count    Dtype  \n",
      "---  ------              --------------    -----  \n",
      " 0   Transaction Amount  1496586 non-null  float64\n",
      " 1   Payment Method      1496586 non-null  int64  \n",
      " 2   Product Category    1496586 non-null  int64  \n",
      " 3   Quantity            1496586 non-null  int64  \n",
      " 4   Customer Age        1496586 non-null  int64  \n",
      " 5   Device Used         1496586 non-null  int64  \n",
      " 6   Is Fraudulent       1496586 non-null  int64  \n",
      " 7   Account Age Days    1496586 non-null  int64  \n",
      " 8   Transaction Hour    1496586 non-null  int64  \n",
      "dtypes: float64(1), int64(8)\n",
      "memory usage: 102.8 MB\n",
      "Accuracy:  0.9545934424257813\n"
     ]
    }
   ],
   "source": [
    "import pandas as pd\n",
    "import matplotlib.pyplot as plt\n",
    "from sklearn.model_selection import train_test_split\n",
    "from sklearn.preprocessing import StandardScaler\n",
    "from sklearn.linear_model import LogisticRegression\n",
    "from sklearn.metrics import accuracy_score\n",
    "from sklearn.preprocessing import LabelEncoder\n",
    "import seaborn as sb\n",
    "\n",
    "df1=pd.read_csv(\"/kaggle/input/fraudulent-e-commerce-transactions/Fraudulent_E-Commerce_Transaction_Data.csv\")\n",
    "df2=pd.read_csv(\"/kaggle/input/fraudulent-e-commerce-transactions/Fraudulent_E-Commerce_Transaction_Data_2.csv\")\n",
    "df = pd.concat([df1, df2], ignore_index=True)\n",
    "\n",
    "print(\"Shape of df1:\", df1.shape)\n",
    "print(\"Shape of df2:\", df2.shape)\n",
    "print(\"Shape of merged DataFrame:\", df.shape)\n",
    "\n",
    "df.drop(['Transaction ID','Customer ID','Customer Location','IP Address','Transaction Date','Shipping Address','Billing Address'], axis=1, inplace=True)\n",
    "\n",
    "# Payment Method\n",
    "label_encoder = LabelEncoder()\n",
    "df['Payment Method'] = label_encoder.fit_transform(df['Payment Method'])\n",
    "\n",
    "# Product Category\n",
    "df['Product Category'] = label_encoder.fit_transform(df['Product Category'])\n",
    "\n",
    "\n",
    "# Device Used\n",
    "df['Device Used'] = label_encoder.fit_transform(df['Device Used'])\n",
    "\n",
    "\n",
    "\n",
    "df.info()\n",
    "\n",
    "# ML model\n",
    "X=df.drop(\"Is Fraudulent\",axis=1)\n",
    "Y=df[\"Is Fraudulent\"]\n",
    "\n",
    "X_train,X_test,Y_train,Y_test=train_test_split(X,Y,test_size=0.2,random_state=42)\n",
    "# logistic=LogisticRegression()\n",
    "logistic = LogisticRegression(max_iter=1500000)\n",
    "logistic.fit(X_train,Y_train)\n",
    "\n",
    "Y_pred=logistic.predict(X_test)\n",
    "\n",
    "accuracy=accuracy_score(Y_test,Y_pred)\n",
    "print(\"Accuracy: \",accuracy)\n",
    "\n"
   ]
  },
  {
   "cell_type": "code",
   "execution_count": null,
   "id": "588a67d0",
   "metadata": {
    "papermill": {
     "duration": 0.005157,
     "end_time": "2024-06-24T05:18:02.826475",
     "exception": false,
     "start_time": "2024-06-24T05:18:02.821318",
     "status": "completed"
    },
    "tags": []
   },
   "outputs": [],
   "source": []
  }
 ],
 "metadata": {
  "kaggle": {
   "accelerator": "none",
   "dataSources": [
    {
     "datasetId": 4721793,
     "sourceId": 8049953,
     "sourceType": "datasetVersion"
    }
   ],
   "dockerImageVersionId": 30684,
   "isGpuEnabled": false,
   "isInternetEnabled": false,
   "language": "python",
   "sourceType": "notebook"
  },
  "kernelspec": {
   "display_name": "Python 3",
   "language": "python",
   "name": "python3"
  },
  "language_info": {
   "codemirror_mode": {
    "name": "ipython",
    "version": 3
   },
   "file_extension": ".py",
   "mimetype": "text/x-python",
   "name": "python",
   "nbconvert_exporter": "python",
   "pygments_lexer": "ipython3",
   "version": "3.10.13"
  },
  "papermill": {
   "default_parameters": {},
   "duration": 50.281155,
   "end_time": "2024-06-24T05:18:03.877557",
   "environment_variables": {},
   "exception": null,
   "input_path": "__notebook__.ipynb",
   "output_path": "__notebook__.ipynb",
   "parameters": {},
   "start_time": "2024-06-24T05:17:13.596402",
   "version": "2.5.0"
  }
 },
 "nbformat": 4,
 "nbformat_minor": 5
}
